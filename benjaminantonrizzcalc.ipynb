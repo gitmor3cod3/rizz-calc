{
  "metadata": {
    "language_info": {
      "codemirror_mode": {
        "name": "python",
        "version": 3
      },
      "file_extension": ".py",
      "mimetype": "text/x-python",
      "name": "python",
      "nbconvert_exporter": "python",
      "pygments_lexer": "ipython3",
      "version": "3.8"
    },
    "kernelspec": {
      "name": "python",
      "display_name": "Python (Pyodide)",
      "language": "python"
    }
  },
  "nbformat_minor": 4,
  "nbformat": 4,
  "cells": [
    {
      "cell_type": "code",
      "source": "#Benjamin & Anton Rizz Calculations\nbenjamin_rizz= 10/10\nnegative_rizz=1000\nbenjaminrizzremover= 'code says Benjamin has-1000 rizz'\nabbiestandards= -10\nif(benjamin_rizz<0):print('rizzler')\nelse :float(benjamin_rizz)\nif float(benjamin_rizz): print(benjaminrizzremover)\ntruebenjamin_rizz=(negative_rizz)*-1\nif (truebenjamin_rizz==1): print('w benjamin')\nelse :print ('lmao negative rizz')\nantonrizz=(benjaminrizzremover.replace('Benjamin','Anton'))\nprint(antonrizz)\nif(abbiestandards<0): print('abbie standards is less than 0')\nprint('abbiesstandards', abbiestandards)",
      "metadata": {
        "trusted": true
      },
      "execution_count": 85,
      "outputs": [
        {
          "name": "stdout",
          "text": "code says Benjamin has-1000 rizz\nlmao negative rizz\ncode says Anton has-1000 rizz\nabbie standards is less than 0\nabbiesstandards -10\n",
          "output_type": "stream"
        }
      ]
    },
    {
      "cell_type": "code",
      "source": "",
      "metadata": {},
      "execution_count": null,
      "outputs": []
    }
  ]
}